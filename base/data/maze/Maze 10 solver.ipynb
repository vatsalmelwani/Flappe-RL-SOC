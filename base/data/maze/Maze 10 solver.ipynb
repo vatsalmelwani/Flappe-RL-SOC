{
 "cells": [
  {
   "cell_type": "code",
   "execution_count": 1,
   "id": "2457d24e",
   "metadata": {},
   "outputs": [],
   "source": [
    "import numpy as np"
   ]
  },
  {
   "cell_type": "code",
   "execution_count": 11,
   "id": "3ec360f8",
   "metadata": {},
   "outputs": [
    {
     "name": "stdout",
     "output_type": "stream",
     "text": [
      "[[1. 1. 1. 1. 1. 1. 1. 1. 1. 1. 1.]\n",
      " [1. 0. 0. 0. 0. 0. 0. 2. 0. 0. 1.]\n",
      " [1. 0. 1. 1. 1. 1. 1. 0. 1. 0. 1.]\n",
      " [1. 0. 0. 0. 0. 0. 0. 0. 1. 0. 1.]\n",
      " [1. 0. 1. 0. 1. 1. 1. 1. 1. 0. 1.]\n",
      " [1. 0. 1. 0. 0. 0. 1. 0. 0. 0. 1.]\n",
      " [1. 0. 1. 0. 1. 1. 1. 1. 1. 0. 1.]\n",
      " [1. 0. 1. 0. 1. 0. 0. 3. 1. 0. 1.]\n",
      " [1. 0. 1. 1. 1. 0. 1. 1. 1. 0. 1.]\n",
      " [1. 0. 0. 0. 0. 0. 0. 0. 1. 0. 1.]\n",
      " [1. 1. 1. 1. 1. 1. 1. 1. 1. 1. 1.]]\n"
     ]
    }
   ],
   "source": [
    "a=open(\"grid10.txt\")\n",
    "l=np.zeros((11,11))\n",
    "j=0\n",
    "for i in a:\n",
    "    i=i.replace(\" \",\"\")\n",
    "    i=i.replace(\"\\n\",\"\")\n",
    "    l[j]=list(i)\n",
    "    j=j+1\n",
    "print(l)"
   ]
  },
  {
   "cell_type": "code",
   "execution_count": 68,
   "id": "5eedca33",
   "metadata": {},
   "outputs": [
    {
     "name": "stdout",
     "output_type": "stream",
     "text": [
      "[[   0.      0.      0.      0.      0.      0.      0.      0.      0.\n",
      "     0.      0.  ]\n",
      " [   0.   -680.68 -693.14 -704.49 -714.75 -723.93 -732.06 -739.14 -750.12\n",
      "  -760.09    0.  ]\n",
      " [   0.   -667.09    0.      0.      0.      0.      0.   -733.69    0.\n",
      "  -769.06    0.  ]\n",
      " [   0.   -652.36 -672.02 -690.54 -701.33 -711.03 -719.64 -727.19    0.\n",
      "  -777.06    0.  ]\n",
      " [   0.   -616.21    0.   -696.59    0.      0.      0.      0.      0.\n",
      "  -784.08    0.  ]\n",
      " [   0.   -578.83    0.   -701.53 -703.18 -703.73    0.   -792.04 -791.57\n",
      "  -790.16    0.  ]\n",
      " [   0.   -540.17    0.   -703.18    0.      0.      0.      0.      0.\n",
      "  -793.42    0.  ]\n",
      " [   0.   -500.18    0.   -703.73    0.   -118.24  -60.09    0.      0.\n",
      "  -795.74    0.  ]\n",
      " [   0.   -458.8     0.      0.      0.   -174.51    0.      0.      0.\n",
      "  -797.13    0.  ]\n",
      " [   0.   -415.97 -371.63 -325.73 -278.2  -228.98 -231.6  -232.48    0.\n",
      "  -797.59    0.  ]\n",
      " [   0.      0.      0.      0.      0.      0.      0.      0.      0.\n",
      "     0.      0.  ]]\n"
     ]
    }
   ],
   "source": [
    "n=11\n",
    "v=np.zeros((n,n))\n",
    "V=np.zeros((n,n))\n",
    "for k in range(1000):\n",
    "    for i in range(1,n-1):\n",
    "        for j in range(1,n-1):\n",
    "            if l[i][j]==1 or l[i][j]==3:\n",
    "                continue\n",
    "            g=np.array([v[i+1][j],v[i-1][j],v[i][j+1],v[i][j-1]])\n",
    "            gd={1:v[i+1][j],2:v[i-1][j],3:v[i][j+1],4:v[i][j-1]}\n",
    "            if l[i+1][j]==1:\n",
    "                del gd[1]\n",
    "            if l[i-1][j]==1:\n",
    "                del gd[2]\n",
    "            if l[i][j+1]==1:\n",
    "                del gd[3]\n",
    "            if l[i][j-1]==1:\n",
    "                del gd[4]\n",
    "            V[i][j]=np.mean(list(gd.values()))-1\n",
    "    v=V\n",
    "    V=np.zeros((n,n))\n",
    "print(v.round(2))"
   ]
  },
  {
   "cell_type": "code",
   "execution_count": 69,
   "id": "85fe2ef7",
   "metadata": {},
   "outputs": [
    {
     "name": "stdout",
     "output_type": "stream",
     "text": [
      "[[0. 0. 0. 0. 0. 0. 0. 0. 0. 0. 0.]\n",
      " [0. 4. 3. 3. 3. 3. 3. 3. 3. 3. 0.]\n",
      " [0. 4. 0. 0. 0. 0. 0. 4. 0. 1. 0.]\n",
      " [0. 4. 3. 3. 3. 3. 3. 3. 0. 1. 0.]\n",
      " [0. 4. 0. 1. 0. 0. 0. 0. 0. 1. 0.]\n",
      " [0. 4. 0. 1. 3. 3. 0. 2. 2. 1. 0.]\n",
      " [0. 4. 0. 1. 0. 0. 0. 0. 0. 1. 0.]\n",
      " [0. 4. 0. 1. 0. 2. 2. 0. 0. 1. 0.]\n",
      " [0. 4. 0. 0. 0. 1. 0. 0. 0. 1. 0.]\n",
      " [0. 2. 2. 2. 2. 1. 3. 3. 0. 1. 0.]\n",
      " [0. 0. 0. 0. 0. 0. 0. 0. 0. 0. 0.]]\n"
     ]
    }
   ],
   "source": [
    "p=np.zeros((n,n))\n",
    "d1={1:\"n\",2:\"e\",3:\"w\",4:\"s\"}\n",
    "for i in range(n):\n",
    "    for  j in range(n):\n",
    "        if l[i][j]==1 or l[i][j]==3:\n",
    "            p[i][j]=0\n",
    "            continue\n",
    "        else:\n",
    "            d={1:v[i-1][j],2:v[i][j+1],3:v[i][j-1],4:v[i+1][j]}\n",
    "            if l[i-1][j]==1:\n",
    "                d[1]=-100000\n",
    "            if l[i][j+1]==1:\n",
    "                d[2]=-100000\n",
    "            if l[i][j-1]==1:\n",
    "                d[3]=-100000\n",
    "            if l[i+1][j]==1:\n",
    "                d[4]=-100000\n",
    "            p[i][j]=max(d, key = d.get)\n",
    "print(p)"
   ]
  },
  {
   "cell_type": "code",
   "execution_count": 70,
   "id": "b6fad2b2",
   "metadata": {},
   "outputs": [
    {
     "name": "stdout",
     "output_type": "stream",
     "text": [
      "[[1. 1. 1. 1. 1. 1. 1. 1. 1. 1. 1.]\n",
      " [1. 0. 0. 0. 0. 0. 0. 2. 0. 0. 1.]\n",
      " [1. 0. 1. 1. 1. 1. 1. 0. 1. 0. 1.]\n",
      " [1. 0. 0. 0. 0. 0. 0. 0. 1. 0. 1.]\n",
      " [1. 0. 1. 0. 1. 1. 1. 1. 1. 0. 1.]\n",
      " [1. 0. 1. 0. 0. 0. 1. 0. 0. 0. 1.]\n",
      " [1. 0. 1. 0. 1. 1. 1. 1. 1. 0. 1.]\n",
      " [1. 0. 1. 0. 1. 0. 0. 3. 1. 0. 1.]\n",
      " [1. 0. 1. 1. 1. 0. 1. 1. 1. 0. 1.]\n",
      " [1. 0. 0. 0. 0. 0. 0. 0. 1. 0. 1.]\n",
      " [1. 1. 1. 1. 1. 1. 1. 1. 1. 1. 1.]] 1 7\n",
      "w w w w w w s s s s s s s s e e e e n n e e "
     ]
    }
   ],
   "source": [
    "si,sj=np.where(l==2)\n",
    "i=int(si)\n",
    "j=int(sj)\n",
    "print(l,i,j)\n",
    "while l[i][j]!=3:\n",
    "    a=d1[p[i][j]]\n",
    "    print(a,end=\" \")\n",
    "    if a==\"n\":\n",
    "        i=i-1\n",
    "    if a==\"w\":\n",
    "        j=j-1\n",
    "    if a==\"e\":\n",
    "        j=j+1\n",
    "    if a==\"s\":\n",
    "        i=i+1"
   ]
  },
  {
   "cell_type": "code",
   "execution_count": null,
   "id": "3658e5db",
   "metadata": {},
   "outputs": [],
   "source": []
  }
 ],
 "metadata": {
  "kernelspec": {
   "display_name": "Python 3 (ipykernel)",
   "language": "python",
   "name": "python3"
  },
  "language_info": {
   "codemirror_mode": {
    "name": "ipython",
    "version": 3
   },
   "file_extension": ".py",
   "mimetype": "text/x-python",
   "name": "python",
   "nbconvert_exporter": "python",
   "pygments_lexer": "ipython3",
   "version": "3.11.1"
  }
 },
 "nbformat": 4,
 "nbformat_minor": 5
}
